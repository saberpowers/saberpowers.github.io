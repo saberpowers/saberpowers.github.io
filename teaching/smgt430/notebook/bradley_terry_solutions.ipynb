{
  "nbformat": 4,
  "nbformat_minor": 0,
  "metadata": {
    "colab": {
      "provenance": []
    },
    "kernelspec": {
      "name": "ir",
      "display_name": "R"
    },
    "language_info": {
      "name": "R"
    }
  },
  "cells": [
    {
      "cell_type": "markdown",
      "source": [
        "Today we will fit two versions of the Bradley-Terry model using the current season of NFL data. We will fit the linear model for score differential, and we fit the logistic model for win-loss outcomes. In the exercises, we will use both of these models to predict the outcomes of future games."
      ],
      "metadata": {
        "id": "OCZxhsx4aU5d"
      }
    },
    {
      "cell_type": "code",
      "source": [
        "install.packages(\"nflreadr\")                                                                      #"
      ],
      "metadata": {
        "colab": {
          "base_uri": "https://localhost:8080/"
        },
        "id": "Z9i4qpXFsLT7",
        "outputId": "5cf8cb7a-e1a6-495f-b250-71752239852a"
      },
      "execution_count": 2,
      "outputs": [
        {
          "output_type": "stream",
          "name": "stderr",
          "text": [
            "Installing package into ‘/usr/local/lib/R/site-library’\n",
            "(as ‘lib’ is unspecified)\n",
            "\n"
          ]
        }
      ]
    },
    {
      "cell_type": "code",
      "execution_count": 3,
      "metadata": {
        "id": "nMNogB-vK4ui"
      },
      "outputs": [],
      "source": [
        "data <- nflreadr::load_schedules(seasons = 2023) |>                                               #\n",
        "  dplyr::filter(game_type == \"REG\")   # filter to regular season games                            #"
      ]
    },
    {
      "cell_type": "markdown",
      "source": [
        "We start with some data wrangling. First we construct the matrix X that holds the +1/-1/0 in each entry to keep track of who is the home and away team in each game."
      ],
      "metadata": {
        "id": "bEFgddzDaylU"
      }
    },
    {
      "cell_type": "code",
      "source": [
        "# Set up the regression matrix that encodes home team as +1, away team as -1                      #\n",
        "team_matrix_home <- model.matrix(~ home_team, data = data)  # this matrix encodes home team as +1 #\n",
        "team_matrix_away <- model.matrix(~ away_team, data = data)  # this matrix encodes away team as +1 #\n",
        "team_matrix <- team_matrix_home - team_matrix_away          # +1 for home team; -1 for away team  #\n",
        "\n",
        "# Convert regression matrix to dataframe                                                          #\n",
        "team_data <- as.data.frame(team_matrix[, -1])         # drop first column (intercept)             #\n",
        "names(team_data) <- sort(unique(data$home_team))[-1]  # attach clean team names to team_data      #"
      ],
      "metadata": {
        "id": "rEtGm6AuL0Ah"
      },
      "execution_count": 4,
      "outputs": []
    },
    {
      "cell_type": "markdown",
      "source": [
        "To estimate the linear Bradley-Terry model for score differential, we use the `lm` function. Note that the `result` column in `data` holds the score differential from the perspective of the home team."
      ],
      "metadata": {
        "id": "7aoV_-SZSkns"
      }
    },
    {
      "cell_type": "code",
      "source": [
        "linear_model <- lm(data$result ~ ., data = team_data)                                             #\n",
        "summary(linear_model)                                                                             #"
      ],
      "metadata": {
        "colab": {
          "base_uri": "https://localhost:8080/",
          "height": 874
        },
        "id": "GzPrdEfrScna",
        "outputId": "d7e4c018-d81f-476b-f775-0cce4c5ee77d"
      },
      "execution_count": 5,
      "outputs": [
        {
          "output_type": "display_data",
          "data": {
            "text/plain": [
              "\n",
              "Call:\n",
              "lm(formula = data$result ~ ., data = team_data)\n",
              "\n",
              "Residuals:\n",
              "    Min      1Q  Median      3Q     Max \n",
              "-26.639  -8.408  -0.382   6.976  39.185 \n",
              "\n",
              "Coefficients:\n",
              "            Estimate Std. Error t value Pr(>|t|)    \n",
              "(Intercept)   2.6071     0.7802   3.342 0.000965 ***\n",
              "ATL           0.4538     4.4901   0.101 0.919585    \n",
              "BAL          18.6192     4.3570   4.273 2.78e-05 ***\n",
              "BUF          11.9193     4.6170   2.582 0.010429 *  \n",
              "CAR          -4.4437     4.5919  -0.968 0.334156    \n",
              "CHI           3.4066     4.5070   0.756 0.450476    \n",
              "CIN           7.1538     4.3570   1.642 0.101913    \n",
              "CLE           8.7732     4.3504   2.017 0.044848 *  \n",
              "DAL          14.6198     4.3818   3.336 0.000983 ***\n",
              "DEN           1.6497     4.6512   0.355 0.723137    \n",
              "DET           9.7025     4.6082   2.106 0.036287 *  \n",
              "GB            6.6199     4.6082   1.437 0.152144    \n",
              "HOU           5.8818     4.4543   1.320 0.187931    \n",
              "IND           4.1069     4.5567   0.901 0.368339    \n",
              "JAX           6.8801     4.5567   1.510 0.132387    \n",
              "KC            9.1961     4.6573   1.975 0.049462 *  \n",
              "LA            8.4540     4.1674   2.029 0.043605 *  \n",
              "LAC           3.2544     4.6573   0.699 0.485361    \n",
              "LV            4.5878     4.6573   0.985 0.325576    \n",
              "MIA           9.8573     4.6170   2.135 0.033775 *  \n",
              "MIN           4.8577     4.6082   1.054 0.292876    \n",
              "NE           -2.4318     4.6170  -0.527 0.598883    \n",
              "NO            7.6414     4.5919   1.664 0.097396 .  \n",
              "NYG          -2.4678     4.3818  -0.563 0.573824    \n",
              "NYJ          -0.3151     4.6062  -0.068 0.945511    \n",
              "PHI           5.3076     4.3818   1.211 0.226973    \n",
              "PIT           6.1435     4.3570   1.410 0.159824    \n",
              "SEA           4.4593     4.1674   1.070 0.285679    \n",
              "SF           17.1855     4.1674   4.124 5.14e-05 ***\n",
              "TB            6.5287     4.5919   1.422 0.156387    \n",
              "TEN           2.2101     4.5567   0.485 0.628104    \n",
              "WAS          -5.6962     4.3703  -1.303 0.193694    \n",
              "---\n",
              "Signif. codes:  0 ‘***’ 0.001 ‘**’ 0.01 ‘*’ 0.05 ‘.’ 0.1 ‘ ’ 1\n",
              "\n",
              "Residual standard error: 12.79 on 240 degrees of freedom\n",
              "Multiple R-squared:  0.3034,\tAdjusted R-squared:  0.2135 \n",
              "F-statistic: 3.373 on 31 and 240 DF,  p-value: 6.228e-08\n"
            ]
          },
          "metadata": {}
        }
      ]
    },
    {
      "cell_type": "markdown",
      "source": [
        "To estimate the logistic Bradley-Terry model for win-loss outcomes, we use the `glm` function."
      ],
      "metadata": {
        "id": "Cqt3MeN7Y8Sz"
      }
    },
    {
      "cell_type": "code",
      "source": [
        "logistic_model <- glm(data$result > 0 ~ ., data = team_data, family = binomial())                 #\n",
        "summary(logistic_model)                                                                           #"
      ],
      "metadata": {
        "colab": {
          "base_uri": "https://localhost:8080/",
          "height": 874
        },
        "id": "aMEB6ctyOSH6",
        "outputId": "86d232b0-859f-4e1c-a763-b8e2274152a1"
      },
      "execution_count": 6,
      "outputs": [
        {
          "output_type": "display_data",
          "data": {
            "text/plain": [
              "\n",
              "Call:\n",
              "glm(formula = data$result > 0 ~ ., family = binomial(), data = team_data)\n",
              "\n",
              "Coefficients:\n",
              "            Estimate Std. Error z value Pr(>|z|)   \n",
              "(Intercept)  0.25379    0.13866   1.830  0.06720 . \n",
              "ATL          0.04142    0.81615   0.051  0.95952   \n",
              "BAL          2.57980    0.86282   2.990  0.00279 **\n",
              "BUF          1.32628    0.85249   1.556  0.11976   \n",
              "CAR         -1.29660    1.01249  -1.281  0.20033   \n",
              "CHI          0.17366    0.82183   0.211  0.83265   \n",
              "CIN          1.56690    0.80590   1.944  0.05186 . \n",
              "CLE          1.98661    0.83071   2.391  0.01678 * \n",
              "DAL          1.68969    0.83822   2.016  0.04382 * \n",
              "DEN          0.54752    0.85160   0.643  0.52027   \n",
              "DET          1.66289    0.87275   1.905  0.05673 . \n",
              "GB           0.76718    0.83649   0.917  0.35906   \n",
              "HOU          1.22160    0.82868   1.474  0.14044   \n",
              "IND          1.02750    0.84036   1.223  0.22145   \n",
              "JAX          1.22995    0.83900   1.466  0.14265   \n",
              "KC           1.33086    0.84868   1.568  0.11684   \n",
              "LA           1.64599    0.78831   2.088  0.03680 * \n",
              "LAC         -0.08639    0.86958  -0.099  0.92086   \n",
              "LV           0.55672    0.84704   0.657  0.51102   \n",
              "MIA          1.25733    0.86997   1.445  0.14838   \n",
              "MIN          0.37634    0.84740   0.444  0.65696   \n",
              "NE          -0.46274    0.89436  -0.517  0.60488   \n",
              "NO           0.60384    0.84097   0.718  0.47274   \n",
              "NYG          0.20450    0.81068   0.252  0.80084   \n",
              "NYJ          0.33052    0.85029   0.389  0.69749   \n",
              "PHI          1.49731    0.82183   1.822  0.06847 . \n",
              "PIT          1.73655    0.82234   2.112  0.03471 * \n",
              "SEA          1.36105    0.78759   1.728  0.08396 . \n",
              "SF           2.16119    0.81694   2.645  0.00816 **\n",
              "TB           0.80252    0.84399   0.951  0.34168   \n",
              "TEN          0.35189    0.85891   0.410  0.68203   \n",
              "WAS         -0.42088    0.83921  -0.502  0.61601   \n",
              "---\n",
              "Signif. codes:  0 ‘***’ 0.001 ‘**’ 0.01 ‘*’ 0.05 ‘.’ 0.1 ‘ ’ 1\n",
              "\n",
              "(Dispersion parameter for binomial family taken to be 1)\n",
              "\n",
              "    Null deviance: 373.76  on 271  degrees of freedom\n",
              "Residual deviance: 312.00  on 240  degrees of freedom\n",
              "AIC: 376\n",
              "\n",
              "Number of Fisher Scoring iterations: 4\n"
            ]
          },
          "metadata": {}
        }
      ]
    },
    {
      "cell_type": "markdown",
      "source": [
        "EXERCISE #0\n",
        "\n",
        "According to the model we've estimated, what is the predicted score differential of Sunday Night Football this weekend (Bears @ Texans)?\n",
        "\n",
        "Note: Admittedly, we are using 2023 data to predict a game in 2024, but the idea is to practice the mechanics of it."
      ],
      "metadata": {
        "id": "fBqb5pPhTHMR"
      }
    },
    {
      "cell_type": "code",
      "source": [
        "coef(linear_model)[\"(Intercept)\"] + coef(linear_model)[\"HOU\"] - coef(linear_model)[\"CHI\"]         #"
      ],
      "metadata": {
        "colab": {
          "base_uri": "https://localhost:8080/",
          "height": 34
        },
        "id": "5fdRF982UGYS",
        "outputId": "dbd7d00f-10f6-449b-bd69-d3a3bff7a32b"
      },
      "execution_count": 14,
      "outputs": [
        {
          "output_type": "display_data",
          "data": {
            "text/html": [
              "<strong>(Intercept):</strong> 5.08236474013452"
            ],
            "text/markdown": "**(Intercept):** 5.08236474013452",
            "text/latex": "\\textbf{(Intercept):} 5.08236474013452",
            "text/plain": [
              "(Intercept) \n",
              "   5.082365 "
            ]
          },
          "metadata": {}
        }
      ]
    },
    {
      "cell_type": "markdown",
      "source": [
        "EXERCISE #1\n",
        "\n",
        "If (hypothetically) the Houston Texans were to play a game at home against the Arizona Cardinals, what would be the predicted score differential?"
      ],
      "metadata": {
        "id": "XknsVPvvUdOm"
      }
    },
    {
      "cell_type": "code",
      "source": [
        "coef(linear_model)[\"(Intercept)\"] + coef(linear_model)[\"HOU\"] - 0                                 #"
      ],
      "metadata": {
        "colab": {
          "base_uri": "https://localhost:8080/",
          "height": 34
        },
        "id": "zdhLvb7DVHKB",
        "outputId": "f3ef222b-770c-4fd7-85c5-5878cdbf7205"
      },
      "execution_count": 15,
      "outputs": [
        {
          "output_type": "display_data",
          "data": {
            "text/html": [
              "<strong>(Intercept):</strong> 8.48898743552201"
            ],
            "text/markdown": "**(Intercept):** 8.48898743552201",
            "text/latex": "\\textbf{(Intercept):} 8.48898743552201",
            "text/plain": [
              "(Intercept) \n",
              "   8.488987 "
            ]
          },
          "metadata": {}
        }
      ]
    },
    {
      "cell_type": "markdown",
      "source": [
        "EXERCISE #2\n",
        "\n",
        "What is the estimated *probability* that the Texans beat the Bears on Sunday Night Football this weekend?"
      ],
      "metadata": {
        "id": "2QPfW5ByQ6vF"
      }
    },
    {
      "cell_type": "code",
      "source": [
        "eta <- coef(logistic_model)[\"(Intercept)\"] + coef(logistic_model)[\"HOU\"] - coef(logistic_model)[\"CHI\"]\n",
        "exp(eta) / (1 + exp(eta))                                                                         #"
      ],
      "metadata": {
        "colab": {
          "base_uri": "https://localhost:8080/",
          "height": 34
        },
        "id": "Iw3Sem4ZRNc4",
        "outputId": "442183ff-7b01-4647-bbbc-d8ee8cf35e42"
      },
      "execution_count": 16,
      "outputs": [
        {
          "output_type": "display_data",
          "data": {
            "text/html": [
              "<strong>(Intercept):</strong> 0.78612715494897"
            ],
            "text/markdown": "**(Intercept):** 0.78612715494897",
            "text/latex": "\\textbf{(Intercept):} 0.78612715494897",
            "text/plain": [
              "(Intercept) \n",
              "  0.7861272 "
            ]
          },
          "metadata": {}
        }
      ]
    },
    {
      "cell_type": "markdown",
      "source": [
        "EXERCISE #3\n",
        "\n",
        "If (hypothetically) the Houston Texans were to play a game at home against the Arizona Cardinals, what is the estimated probability that Houston would win?"
      ],
      "metadata": {
        "id": "ntg5CJPGRnah"
      }
    },
    {
      "cell_type": "code",
      "source": [
        "eta <- coef(logistic_model)[\"(Intercept)\"] + coef(logistic_model)[\"HOU\"] - 0                      #\n",
        "exp(eta) / (1 + exp(eta))                                                                         #"
      ],
      "metadata": {
        "colab": {
          "base_uri": "https://localhost:8080/",
          "height": 34
        },
        "id": "zMJSwZLHR2-p",
        "outputId": "672c548d-86d3-4260-bb0d-e934c5ba3166"
      },
      "execution_count": 17,
      "outputs": [
        {
          "output_type": "display_data",
          "data": {
            "text/html": [
              "<strong>(Intercept):</strong> 0.813876032590253"
            ],
            "text/markdown": "**(Intercept):** 0.813876032590253",
            "text/latex": "\\textbf{(Intercept):} 0.813876032590253",
            "text/plain": [
              "(Intercept) \n",
              "   0.813876 "
            ]
          },
          "metadata": {}
        }
      ]
    },
    {
      "cell_type": "markdown",
      "source": [
        "EXERCISE #4 (Challenge)\n",
        "\n",
        "Suppose you wanted to predict win-loss outcome probabilities but you wanted to leverage score differentials (because we've learned that score differential is more predictive of future record than are win-loss outcomes). Can you think of a way to extract win-loss probability predictions from the score differential Bradley-Terry model?"
      ],
      "metadata": {
        "id": "0-L6ksPOYMfc"
      }
    }
  ]
}