{
  "nbformat": 4,
  "nbformat_minor": 0,
  "metadata": {
    "colab": {
      "provenance": []
    },
    "kernelspec": {
      "name": "ir",
      "display_name": "R"
    },
    "language_info": {
      "name": "R"
    }
  },
  "cells": [
    {
      "cell_type": "markdown",
      "source": [
        "# Part 1: Calculating RE24 and LW"
      ],
      "metadata": {
        "id": "Ukgz9IxTcIA2"
      }
    },
    {
      "cell_type": "markdown",
      "source": [
        "We're going to use this package lme4 in Part 2 of today's R tutorial. Let's go ahead and install it at the beginning. It can take a few minutes to install, so run this block of code and then start reading the tutorial."
      ],
      "metadata": {
        "id": "2QLO66fUNRMY"
      }
    },
    {
      "cell_type": "code",
      "source": [
        "install.packages('lme4')                                                                          #"
      ],
      "metadata": {
        "colab": {
          "base_uri": "https://localhost:8080/"
        },
        "id": "R9MC3RUDLqWC",
        "outputId": "6af7ae2a-a001-4170-ba05-a1a9dc89df3e"
      },
      "execution_count": 38,
      "outputs": [
        {
          "output_type": "stream",
          "name": "stderr",
          "text": [
            "Installing package into ‘/usr/local/lib/R/site-library’\n",
            "(as ‘lib’ is unspecified)\n",
            "\n"
          ]
        }
      ]
    },
    {
      "cell_type": "markdown",
      "source": [
        "Start by loading the two CSV data files from Canvas into our R session."
      ],
      "metadata": {
        "id": "CPCKDU0roPW9"
      }
    },
    {
      "cell_type": "code",
      "execution_count": 39,
      "metadata": {
        "id": "HWcTHCMuP6mE"
      },
      "outputs": [],
      "source": [
        "event <- read.csv(\"event.csv\")                                                                    #\n",
        "player <- read.csv(\"player.csv\")                                                                  #"
      ]
    },
    {
      "cell_type": "markdown",
      "source": [
        "Our goal is to calculate RE24 and LW for each batter. First, we need to calculate base-out run expectancy. To set up our Markov chain, we create character strings encoding the state before and after each plate appearance."
      ],
      "metadata": {
        "id": "uDrRNzy2ouQ2"
      }
    },
    {
      "cell_type": "code",
      "source": [
        "data <- event |>                                                                                  #\n",
        "  dplyr::mutate(                                                                                  #\n",
        "    pre_runner_1b = 1 * !is.na(pre_runner_1b_id),                                                 #\n",
        "    pre_runner_2b = 1 * !is.na(pre_runner_2b_id),                                                 #\n",
        "    pre_runner_3b = 1 * !is.na(pre_runner_3b_id),                                                 #\n",
        "    post_runner_1b = 1 * !is.na(post_runner_1b_id),                                               #\n",
        "    post_runner_2b = 1 * !is.na(post_runner_2b_id),                                               #\n",
        "    post_runner_3b = 1 * !is.na(post_runner_3b_id)                                                #\n",
        "  ) |>                                                                                            #\n",
        "  dplyr::mutate(                                                                                  #\n",
        "    pre_state = paste0(                                                                           #\n",
        "      1 * !is.na(pre_runner_1b_id),                                                               #\n",
        "      1 * !is.na(pre_runner_2b_id),                                                               #\n",
        "      1 * !is.na(pre_runner_3b_id),                                                               #\n",
        "      pre_outs                                                                                    #\n",
        "    ),                                                                                            #\n",
        "    post_state = ifelse(                                                                          #\n",
        "      test = post_outs == 3,                                                                      #\n",
        "      yes = paste0(\"end\", runs_on_event),                                                         #\n",
        "      no = paste0(                                                                                #\n",
        "        1 * !is.na(post_runner_1b_id),                                                            #\n",
        "        1 * !is.na(post_runner_2b_id),                                                            #\n",
        "        1 * !is.na(post_runner_3b_id),                                                            #\n",
        "        post_outs                                                                                 #\n",
        "      )                                                                                           #\n",
        "    )                                                                                             #\n",
        "  )                                                                                               #"
      ],
      "metadata": {
        "id": "nslzgpeLahav"
      },
      "execution_count": 40,
      "outputs": []
    },
    {
      "cell_type": "markdown",
      "source": [
        "Next we need the transition probabilities of the Markov chain. We will use the empirical transition probabilities, so we need to calculate the frequency with which we observe each state transition. Below, we count the number of transitions observed between each pair of states.\n",
        "\n",
        "During this step, we will also calculate the reward for each transition between two states."
      ],
      "metadata": {
        "id": "0FAHjWieo5he"
      }
    },
    {
      "cell_type": "code",
      "source": [
        "transition_count <- data |>                                                                       #\n",
        "  dplyr::mutate(                                                                                  #\n",
        "    reward = ifelse(                                                                              #\n",
        "      test = post_outs == 3,                                                                      #\n",
        "      yes = runs_on_event,                                                                        #\n",
        "      no = (pre_runner_1b + pre_runner_2b + pre_runner_3b + pre_outs) + 1 -                       #\n",
        "        (post_runner_1b + post_runner_2b + post_runner_3b + post_outs)                            #\n",
        "    )                                                                                             #\n",
        "  ) |>                                                                                            #\n",
        "  dplyr::count(pre_state, post_state, reward)                                                     #\n",
        "\n",
        "head(transition_count)                                                                            #"
      ],
      "metadata": {
        "id": "eO7-K5X9PmR6",
        "colab": {
          "base_uri": "https://localhost:8080/",
          "height": 286
        },
        "outputId": "a22ed162-3538-43b2-a14f-831266c4dc7f"
      },
      "execution_count": 41,
      "outputs": [
        {
          "output_type": "display_data",
          "data": {
            "text/html": [
              "<table class=\"dataframe\">\n",
              "<caption>A data.frame: 6 × 4</caption>\n",
              "<thead>\n",
              "\t<tr><th></th><th scope=col>pre_state</th><th scope=col>post_state</th><th scope=col>reward</th><th scope=col>n</th></tr>\n",
              "\t<tr><th></th><th scope=col>&lt;chr&gt;</th><th scope=col>&lt;chr&gt;</th><th scope=col>&lt;dbl&gt;</th><th scope=col>&lt;int&gt;</th></tr>\n",
              "</thead>\n",
              "<tbody>\n",
              "\t<tr><th scope=row>1</th><td>0000</td><td>0000</td><td>1</td><td> 1261</td></tr>\n",
              "\t<tr><th scope=row>2</th><td>0000</td><td>0001</td><td>0</td><td>27575</td></tr>\n",
              "\t<tr><th scope=row>3</th><td>0000</td><td>0010</td><td>0</td><td>  194</td></tr>\n",
              "\t<tr><th scope=row>4</th><td>0000</td><td>0100</td><td>0</td><td> 1796</td></tr>\n",
              "\t<tr><th scope=row>5</th><td>0000</td><td>1000</td><td>0</td><td> 9253</td></tr>\n",
              "\t<tr><th scope=row>6</th><td>0001</td><td>0001</td><td>1</td><td>  843</td></tr>\n",
              "</tbody>\n",
              "</table>\n"
            ],
            "text/markdown": "\nA data.frame: 6 × 4\n\n| <!--/--> | pre_state &lt;chr&gt; | post_state &lt;chr&gt; | reward &lt;dbl&gt; | n &lt;int&gt; |\n|---|---|---|---|---|\n| 1 | 0000 | 0000 | 1 |  1261 |\n| 2 | 0000 | 0001 | 0 | 27575 |\n| 3 | 0000 | 0010 | 0 |   194 |\n| 4 | 0000 | 0100 | 0 |  1796 |\n| 5 | 0000 | 1000 | 0 |  9253 |\n| 6 | 0001 | 0001 | 1 |   843 |\n\n",
            "text/latex": "A data.frame: 6 × 4\n\\begin{tabular}{r|llll}\n  & pre\\_state & post\\_state & reward & n\\\\\n  & <chr> & <chr> & <dbl> & <int>\\\\\n\\hline\n\t1 & 0000 & 0000 & 1 &  1261\\\\\n\t2 & 0000 & 0001 & 0 & 27575\\\\\n\t3 & 0000 & 0010 & 0 &   194\\\\\n\t4 & 0000 & 0100 & 0 &  1796\\\\\n\t5 & 0000 & 1000 & 0 &  9253\\\\\n\t6 & 0001 & 0001 & 1 &   843\\\\\n\\end{tabular}\n",
            "text/plain": [
              "  pre_state post_state reward n    \n",
              "1 0000      0000       1       1261\n",
              "2 0000      0001       0      27575\n",
              "3 0000      0010       0        194\n",
              "4 0000      0100       0       1796\n",
              "5 0000      1000       0       9253\n",
              "6 0001      0001       1        843"
            ]
          },
          "metadata": {}
        }
      ]
    },
    {
      "cell_type": "markdown",
      "source": [
        "To convert counts into probabilities, we divide each transition count by the number of total transitions out of that starting state."
      ],
      "metadata": {
        "id": "Efc3zxLLqdIV"
      }
    },
    {
      "cell_type": "code",
      "source": [
        "transition_prob <- transition_count |>                                                            #\n",
        "  dplyr::group_by(pre_state) |>                                                                   #\n",
        "  dplyr::mutate(                                                                                  #\n",
        "    n_total = sum(n),                                                                             #\n",
        "    prob = n / n_total                                                                            #\n",
        "  ) |>                                                                                            #\n",
        "  dplyr::ungroup() |>                                                                             #\n",
        "  dplyr::select(pre_state, post_state, prob, reward)                                              #\n",
        "\n",
        "head(transition_prob)                                                                             #"
      ],
      "metadata": {
        "id": "G4RjwYeWQxaW",
        "colab": {
          "base_uri": "https://localhost:8080/",
          "height": 286
        },
        "outputId": "9d3cbd35-e889-4314-90bb-7fb57a6affe8"
      },
      "execution_count": 42,
      "outputs": [
        {
          "output_type": "display_data",
          "data": {
            "text/html": [
              "<table class=\"dataframe\">\n",
              "<caption>A tibble: 6 × 4</caption>\n",
              "<thead>\n",
              "\t<tr><th scope=col>pre_state</th><th scope=col>post_state</th><th scope=col>prob</th><th scope=col>reward</th></tr>\n",
              "\t<tr><th scope=col>&lt;chr&gt;</th><th scope=col>&lt;chr&gt;</th><th scope=col>&lt;dbl&gt;</th><th scope=col>&lt;dbl&gt;</th></tr>\n",
              "</thead>\n",
              "<tbody>\n",
              "\t<tr><td>0000</td><td>0000</td><td>0.03146286</td><td>1</td></tr>\n",
              "\t<tr><td>0000</td><td>0001</td><td>0.68801617</td><td>0</td></tr>\n",
              "\t<tr><td>0000</td><td>0010</td><td>0.00484044</td><td>0</td></tr>\n",
              "\t<tr><td>0000</td><td>0100</td><td>0.04481150</td><td>0</td></tr>\n",
              "\t<tr><td>0000</td><td>1000</td><td>0.23086903</td><td>0</td></tr>\n",
              "\t<tr><td>0001</td><td>0001</td><td>0.02879197</td><td>1</td></tr>\n",
              "</tbody>\n",
              "</table>\n"
            ],
            "text/markdown": "\nA tibble: 6 × 4\n\n| pre_state &lt;chr&gt; | post_state &lt;chr&gt; | prob &lt;dbl&gt; | reward &lt;dbl&gt; |\n|---|---|---|---|\n| 0000 | 0000 | 0.03146286 | 1 |\n| 0000 | 0001 | 0.68801617 | 0 |\n| 0000 | 0010 | 0.00484044 | 0 |\n| 0000 | 0100 | 0.04481150 | 0 |\n| 0000 | 1000 | 0.23086903 | 0 |\n| 0001 | 0001 | 0.02879197 | 1 |\n\n",
            "text/latex": "A tibble: 6 × 4\n\\begin{tabular}{llll}\n pre\\_state & post\\_state & prob & reward\\\\\n <chr> & <chr> & <dbl> & <dbl>\\\\\n\\hline\n\t 0000 & 0000 & 0.03146286 & 1\\\\\n\t 0000 & 0001 & 0.68801617 & 0\\\\\n\t 0000 & 0010 & 0.00484044 & 0\\\\\n\t 0000 & 0100 & 0.04481150 & 0\\\\\n\t 0000 & 1000 & 0.23086903 & 0\\\\\n\t 0001 & 0001 & 0.02879197 & 1\\\\\n\\end{tabular}\n",
            "text/plain": [
              "  pre_state post_state prob       reward\n",
              "1 0000      0000       0.03146286 1     \n",
              "2 0000      0001       0.68801617 0     \n",
              "3 0000      0010       0.00484044 0     \n",
              "4 0000      0100       0.04481150 0     \n",
              "5 0000      1000       0.23086903 0     \n",
              "6 0001      0001       0.02879197 1     "
            ]
          },
          "metadata": {}
        }
      ]
    },
    {
      "cell_type": "markdown",
      "source": [
        "With our Markov chain now defined (with states and transition probabilities), we now turn to the Bellman equation and value iteration. First, let's initiate the value of each state to zero."
      ],
      "metadata": {
        "id": "UtfyKL3Mqqwj"
      }
    },
    {
      "cell_type": "code",
      "source": [
        "value <- transition_count |>                                                                      #\n",
        "  dplyr::distinct(state = pre_state, value = 0)                                                   #\n",
        "\n",
        "head(value)                                                                                       #"
      ],
      "metadata": {
        "id": "IShaBPFLRoXp",
        "colab": {
          "base_uri": "https://localhost:8080/",
          "height": 286
        },
        "outputId": "ebfaefd1-b59a-45a0-96f0-eb71cf1ec4e3"
      },
      "execution_count": 43,
      "outputs": [
        {
          "output_type": "display_data",
          "data": {
            "text/html": [
              "<table class=\"dataframe\">\n",
              "<caption>A data.frame: 6 × 2</caption>\n",
              "<thead>\n",
              "\t<tr><th></th><th scope=col>state</th><th scope=col>value</th></tr>\n",
              "\t<tr><th></th><th scope=col>&lt;chr&gt;</th><th scope=col>&lt;dbl&gt;</th></tr>\n",
              "</thead>\n",
              "<tbody>\n",
              "\t<tr><th scope=row>1</th><td>0000</td><td>0</td></tr>\n",
              "\t<tr><th scope=row>2</th><td>0001</td><td>0</td></tr>\n",
              "\t<tr><th scope=row>3</th><td>0002</td><td>0</td></tr>\n",
              "\t<tr><th scope=row>4</th><td>0010</td><td>0</td></tr>\n",
              "\t<tr><th scope=row>5</th><td>0011</td><td>0</td></tr>\n",
              "\t<tr><th scope=row>6</th><td>0012</td><td>0</td></tr>\n",
              "</tbody>\n",
              "</table>\n"
            ],
            "text/markdown": "\nA data.frame: 6 × 2\n\n| <!--/--> | state &lt;chr&gt; | value &lt;dbl&gt; |\n|---|---|---|\n| 1 | 0000 | 0 |\n| 2 | 0001 | 0 |\n| 3 | 0002 | 0 |\n| 4 | 0010 | 0 |\n| 5 | 0011 | 0 |\n| 6 | 0012 | 0 |\n\n",
            "text/latex": "A data.frame: 6 × 2\n\\begin{tabular}{r|ll}\n  & state & value\\\\\n  & <chr> & <dbl>\\\\\n\\hline\n\t1 & 0000 & 0\\\\\n\t2 & 0001 & 0\\\\\n\t3 & 0002 & 0\\\\\n\t4 & 0010 & 0\\\\\n\t5 & 0011 & 0\\\\\n\t6 & 0012 & 0\\\\\n\\end{tabular}\n",
            "text/plain": [
              "  state value\n",
              "1 0000  0    \n",
              "2 0001  0    \n",
              "3 0002  0    \n",
              "4 0010  0    \n",
              "5 0011  0    \n",
              "6 0012  0    "
            ]
          },
          "metadata": {}
        }
      ]
    },
    {
      "cell_type": "markdown",
      "source": [
        "Below, we iteratively apply the update step from the Bellman equation until the estimated run expectancies converge. We use a while loop to iterate until the change in run expectancy is very small. It happens very quickly!"
      ],
      "metadata": {
        "id": "wmt-NcaCq7lb"
      }
    },
    {
      "cell_type": "code",
      "source": [
        "change <- Inf                                                                                     #\n",
        "threshold <- 0.001                                                                                #\n",
        "\n",
        "while(change > threshold) {                                                                       #\n",
        "\n",
        "  value_new <- transition_prob |>                                                                 #\n",
        "    dplyr::left_join(value, by = c(\"post_state\" = \"state\")) |>                                    #\n",
        "    dplyr::group_by(state = pre_state) |>                                                         #\n",
        "    dplyr::summarize(value = sum(prob * (reward + dplyr::coalesce(value, 0))))                    #\n",
        "\n",
        "  change <- value |>                                                                              #\n",
        "    dplyr::left_join(value_new, by = \"state\", suffix = c(\"_old\", \"_new\")) |>                      #\n",
        "    with(sum(abs(value_new - value_old)))                                                         #\n",
        "\n",
        "  print(change)   # just to see how quickly the convergence happens                               #\n",
        "\n",
        "  value <- value_new                                                                              #\n",
        "}                                                                                                 #"
      ],
      "metadata": {
        "id": "uUedS715UUQA",
        "colab": {
          "base_uri": "https://localhost:8080/"
        },
        "outputId": "8503bd36-0070-4307-babd-f04d98c834dd"
      },
      "execution_count": 44,
      "outputs": [
        {
          "output_type": "stream",
          "name": "stdout",
          "text": [
            "[1] 8.787837\n",
            "[1] 5.787973\n",
            "[1] 3.667325\n",
            "[1] 2.181085\n",
            "[1] 1.166552\n",
            "[1] 0.5592613\n",
            "[1] 0.2475806\n",
            "[1] 0.1048928\n",
            "[1] 0.04300104\n",
            "[1] 0.01717402\n",
            "[1] 0.006715074\n",
            "[1] 0.002580105\n",
            "[1] 0.0009769382\n"
          ]
        }
      ]
    },
    {
      "cell_type": "markdown",
      "source": [
        "## Exercises"
      ],
      "metadata": {
        "id": "YnGOcxEMr3jL"
      }
    },
    {
      "cell_type": "markdown",
      "source": [
        "EXERCISE #1\n",
        "\n",
        "Calculate the linear weight of each different outcome in the `event` column.\n",
        "\n",
        "Recall the definition of outcome linear weight:\n",
        "$$\\ell(o) = \\frac{\n",
        "  \\sum_{i = 1}^n \\mathbb{I}\\{o_i = o\\} \\cdot (r_i + v(s_i') - v(s_i))\n",
        "}{\n",
        "  \\sum_{i = 1}^n \\mathbb{I}\\{o_i = o\\}\n",
        "}.\n",
        "$$\n",
        "\n",
        "To see a hint, double click **here**.\n",
        "<!---\n",
        "Start with the `data_with_state` dataframe, and join with the `value` dataframe twice: first to get the value of the pre state and second to get the value of the post state.\n",
        "--->"
      ],
      "metadata": {
        "id": "b9SgLjazawdk"
      }
    },
    {
      "cell_type": "code",
      "source": [
        "data_with_re <- data |>                                                                           #\n",
        "  dplyr::left_join(value, by = c(\"pre_state\" = \"state\")) |>                                       #\n",
        "  dplyr::rename(pre_run_exp = value) |>                                                           #\n",
        "  dplyr::left_join(value, by = c(\"post_state\" = \"state\")) |>                                      #\n",
        "  dplyr::rename(post_run_exp = value)                                                             #\n",
        "\n",
        "linear_weight <- data_with_re |>                                                                  #\n",
        "  dplyr::group_by(event) |>                                                                       #\n",
        "  dplyr::summarize(                                                                               #\n",
        "    linear_weight = mean(runs_on_event + dplyr::coalesce(post_run_exp, 0) - pre_run_exp),         #\n",
        "    .groups = \"drop\"                                                                              #\n",
        "  )                                                                                               #\n",
        "\n",
        "linear_weight |>                                                                                  #\n",
        "  dplyr::arrange(-linear_weight)                                                                  #"
      ],
      "metadata": {
        "id": "wryQ7UUdbDgp",
        "colab": {
          "base_uri": "https://localhost:8080/",
          "height": 1000
        },
        "outputId": "a0e46e66-dc2c-4def-ac12-ac1b09d8746a"
      },
      "execution_count": 45,
      "outputs": [
        {
          "output_type": "display_data",
          "data": {
            "text/html": [
              "<table class=\"dataframe\">\n",
              "<caption>A tibble: 40 × 2</caption>\n",
              "<thead>\n",
              "\t<tr><th scope=col>event</th><th scope=col>linear_weight</th></tr>\n",
              "\t<tr><th scope=col>&lt;chr&gt;</th><th scope=col>&lt;dbl&gt;</th></tr>\n",
              "</thead>\n",
              "<tbody>\n",
              "\t<tr><td>Home Run                    </td><td> 1.40382252</td></tr>\n",
              "\t<tr><td>Triple                      </td><td> 1.04138102</td></tr>\n",
              "\t<tr><td>Wild Pitch                  </td><td> 0.81441234</td></tr>\n",
              "\t<tr><td>Double                      </td><td> 0.76448630</td></tr>\n",
              "\t<tr><td>Fielders Choice             </td><td> 0.72440177</td></tr>\n",
              "\t<tr><td>Single                      </td><td> 0.47329651</td></tr>\n",
              "\t<tr><td>Field Error                 </td><td> 0.44983782</td></tr>\n",
              "\t<tr><td>Catcher Interference        </td><td> 0.36111532</td></tr>\n",
              "\t<tr><td>Hit By Pitch                </td><td> 0.35759654</td></tr>\n",
              "\t<tr><td>Walk                        </td><td> 0.33416143</td></tr>\n",
              "\t<tr><td>Intent Walk                 </td><td> 0.21360454</td></tr>\n",
              "\t<tr><td>Sac Fly                     </td><td>-0.01066487</td></tr>\n",
              "\t<tr><td>Sac Bunt                    </td><td>-0.08356810</td></tr>\n",
              "\t<tr><td>Bunt Groundout              </td><td>-0.21289996</td></tr>\n",
              "\t<tr><td>Groundout                   </td><td>-0.21578460</td></tr>\n",
              "\t<tr><td>Pickoff Caught Stealing 2B  </td><td>-0.22789050</td></tr>\n",
              "\t<tr><td>Stolen Base 2B              </td><td>-0.23017711</td></tr>\n",
              "\t<tr><td>Caught Stealing 2B          </td><td>-0.24439594</td></tr>\n",
              "\t<tr><td>Flyout                      </td><td>-0.25260101</td></tr>\n",
              "\t<tr><td>Lineout                     </td><td>-0.25333438</td></tr>\n",
              "\t<tr><td>Pickoff 1B                  </td><td>-0.26498888</td></tr>\n",
              "\t<tr><td>Strikeout                   </td><td>-0.26507175</td></tr>\n",
              "\t<tr><td>Pop Out                     </td><td>-0.27009154</td></tr>\n",
              "\t<tr><td>Runner Out                  </td><td>-0.29199706</td></tr>\n",
              "\t<tr><td>Forceout                    </td><td>-0.33644508</td></tr>\n",
              "\t<tr><td>Bunt Lineout                </td><td>-0.34325740</td></tr>\n",
              "\t<tr><td>Pickoff 3B                  </td><td>-0.35890833</td></tr>\n",
              "\t<tr><td>Pickoff 2B                  </td><td>-0.38437573</td></tr>\n",
              "\t<tr><td>Caught Stealing 3B          </td><td>-0.39225474</td></tr>\n",
              "\t<tr><td>Pickoff Caught Stealing 3B  </td><td>-0.39880999</td></tr>\n",
              "\t<tr><td>Bunt Pop Out                </td><td>-0.42554038</td></tr>\n",
              "\t<tr><td>Field Out                   </td><td>-0.43983463</td></tr>\n",
              "\t<tr><td>Pickoff Caught Stealing Home</td><td>-0.52540033</td></tr>\n",
              "\t<tr><td>Caught Stealing Home        </td><td>-0.52922067</td></tr>\n",
              "\t<tr><td>Sac Fly Double Play         </td><td>-0.54529584</td></tr>\n",
              "\t<tr><td>Fielders Choice Out         </td><td>-0.64000177</td></tr>\n",
              "\t<tr><td>Strikeout Double Play       </td><td>-0.64094208</td></tr>\n",
              "\t<tr><td>Grounded Into DP            </td><td>-0.80873558</td></tr>\n",
              "\t<tr><td>Double Play                 </td><td>-0.91391047</td></tr>\n",
              "\t<tr><td>Triple Play                 </td><td>-1.81144148</td></tr>\n",
              "</tbody>\n",
              "</table>\n"
            ],
            "text/markdown": "\nA tibble: 40 × 2\n\n| event &lt;chr&gt; | linear_weight &lt;dbl&gt; |\n|---|---|\n| Home Run                     |  1.40382252 |\n| Triple                       |  1.04138102 |\n| Wild Pitch                   |  0.81441234 |\n| Double                       |  0.76448630 |\n| Fielders Choice              |  0.72440177 |\n| Single                       |  0.47329651 |\n| Field Error                  |  0.44983782 |\n| Catcher Interference         |  0.36111532 |\n| Hit By Pitch                 |  0.35759654 |\n| Walk                         |  0.33416143 |\n| Intent Walk                  |  0.21360454 |\n| Sac Fly                      | -0.01066487 |\n| Sac Bunt                     | -0.08356810 |\n| Bunt Groundout               | -0.21289996 |\n| Groundout                    | -0.21578460 |\n| Pickoff Caught Stealing 2B   | -0.22789050 |\n| Stolen Base 2B               | -0.23017711 |\n| Caught Stealing 2B           | -0.24439594 |\n| Flyout                       | -0.25260101 |\n| Lineout                      | -0.25333438 |\n| Pickoff 1B                   | -0.26498888 |\n| Strikeout                    | -0.26507175 |\n| Pop Out                      | -0.27009154 |\n| Runner Out                   | -0.29199706 |\n| Forceout                     | -0.33644508 |\n| Bunt Lineout                 | -0.34325740 |\n| Pickoff 3B                   | -0.35890833 |\n| Pickoff 2B                   | -0.38437573 |\n| Caught Stealing 3B           | -0.39225474 |\n| Pickoff Caught Stealing 3B   | -0.39880999 |\n| Bunt Pop Out                 | -0.42554038 |\n| Field Out                    | -0.43983463 |\n| Pickoff Caught Stealing Home | -0.52540033 |\n| Caught Stealing Home         | -0.52922067 |\n| Sac Fly Double Play          | -0.54529584 |\n| Fielders Choice Out          | -0.64000177 |\n| Strikeout Double Play        | -0.64094208 |\n| Grounded Into DP             | -0.80873558 |\n| Double Play                  | -0.91391047 |\n| Triple Play                  | -1.81144148 |\n\n",
            "text/latex": "A tibble: 40 × 2\n\\begin{tabular}{ll}\n event & linear\\_weight\\\\\n <chr> & <dbl>\\\\\n\\hline\n\t Home Run                     &  1.40382252\\\\\n\t Triple                       &  1.04138102\\\\\n\t Wild Pitch                   &  0.81441234\\\\\n\t Double                       &  0.76448630\\\\\n\t Fielders Choice              &  0.72440177\\\\\n\t Single                       &  0.47329651\\\\\n\t Field Error                  &  0.44983782\\\\\n\t Catcher Interference         &  0.36111532\\\\\n\t Hit By Pitch                 &  0.35759654\\\\\n\t Walk                         &  0.33416143\\\\\n\t Intent Walk                  &  0.21360454\\\\\n\t Sac Fly                      & -0.01066487\\\\\n\t Sac Bunt                     & -0.08356810\\\\\n\t Bunt Groundout               & -0.21289996\\\\\n\t Groundout                    & -0.21578460\\\\\n\t Pickoff Caught Stealing 2B   & -0.22789050\\\\\n\t Stolen Base 2B               & -0.23017711\\\\\n\t Caught Stealing 2B           & -0.24439594\\\\\n\t Flyout                       & -0.25260101\\\\\n\t Lineout                      & -0.25333438\\\\\n\t Pickoff 1B                   & -0.26498888\\\\\n\t Strikeout                    & -0.26507175\\\\\n\t Pop Out                      & -0.27009154\\\\\n\t Runner Out                   & -0.29199706\\\\\n\t Forceout                     & -0.33644508\\\\\n\t Bunt Lineout                 & -0.34325740\\\\\n\t Pickoff 3B                   & -0.35890833\\\\\n\t Pickoff 2B                   & -0.38437573\\\\\n\t Caught Stealing 3B           & -0.39225474\\\\\n\t Pickoff Caught Stealing 3B   & -0.39880999\\\\\n\t Bunt Pop Out                 & -0.42554038\\\\\n\t Field Out                    & -0.43983463\\\\\n\t Pickoff Caught Stealing Home & -0.52540033\\\\\n\t Caught Stealing Home         & -0.52922067\\\\\n\t Sac Fly Double Play          & -0.54529584\\\\\n\t Fielders Choice Out          & -0.64000177\\\\\n\t Strikeout Double Play        & -0.64094208\\\\\n\t Grounded Into DP             & -0.80873558\\\\\n\t Double Play                  & -0.91391047\\\\\n\t Triple Play                  & -1.81144148\\\\\n\\end{tabular}\n",
            "text/plain": [
              "   event                        linear_weight\n",
              "1  Home Run                      1.40382252  \n",
              "2  Triple                        1.04138102  \n",
              "3  Wild Pitch                    0.81441234  \n",
              "4  Double                        0.76448630  \n",
              "5  Fielders Choice               0.72440177  \n",
              "6  Single                        0.47329651  \n",
              "7  Field Error                   0.44983782  \n",
              "8  Catcher Interference          0.36111532  \n",
              "9  Hit By Pitch                  0.35759654  \n",
              "10 Walk                          0.33416143  \n",
              "11 Intent Walk                   0.21360454  \n",
              "12 Sac Fly                      -0.01066487  \n",
              "13 Sac Bunt                     -0.08356810  \n",
              "14 Bunt Groundout               -0.21289996  \n",
              "15 Groundout                    -0.21578460  \n",
              "16 Pickoff Caught Stealing 2B   -0.22789050  \n",
              "17 Stolen Base 2B               -0.23017711  \n",
              "18 Caught Stealing 2B           -0.24439594  \n",
              "19 Flyout                       -0.25260101  \n",
              "20 Lineout                      -0.25333438  \n",
              "21 Pickoff 1B                   -0.26498888  \n",
              "22 Strikeout                    -0.26507175  \n",
              "23 Pop Out                      -0.27009154  \n",
              "24 Runner Out                   -0.29199706  \n",
              "25 Forceout                     -0.33644508  \n",
              "26 Bunt Lineout                 -0.34325740  \n",
              "27 Pickoff 3B                   -0.35890833  \n",
              "28 Pickoff 2B                   -0.38437573  \n",
              "29 Caught Stealing 3B           -0.39225474  \n",
              "30 Pickoff Caught Stealing 3B   -0.39880999  \n",
              "31 Bunt Pop Out                 -0.42554038  \n",
              "32 Field Out                    -0.43983463  \n",
              "33 Pickoff Caught Stealing Home -0.52540033  \n",
              "34 Caught Stealing Home         -0.52922067  \n",
              "35 Sac Fly Double Play          -0.54529584  \n",
              "36 Fielders Choice Out          -0.64000177  \n",
              "37 Strikeout Double Play        -0.64094208  \n",
              "38 Grounded Into DP             -0.80873558  \n",
              "39 Double Play                  -0.91391047  \n",
              "40 Triple Play                  -1.81144148  "
            ]
          },
          "metadata": {}
        }
      ]
    },
    {
      "cell_type": "markdown",
      "source": [
        "EXERCISE #2\n",
        "\n",
        "Calculate PA, RE24 and LW for all batters.\n",
        "\n",
        "$$\n",
        "\\begin{split}\n",
        "  \\mbox{PA}(b) &= \\sum_{i = 1}^n \\mathbb{I}\\{b_i = b\\}\\\\\n",
        "  \\mbox{RE24}(b) &= \\sum_{i = 1}^n \\mathbb{I}\\{b_i = b\\} \\cdot (r_i + v(s_i') - v(s_i))\\\\\n",
        "  \\mbox{LW24}(b) &= \\sum_{i = 1}^n \\mathbb{I}\\{b_i = b\\} \\cdot \\ell(o_i)\n",
        "\\end{split}\n",
        "$$"
      ],
      "metadata": {
        "id": "BF8WnQ7fbKI-"
      }
    },
    {
      "cell_type": "code",
      "source": [
        "batter_metrics <- data_with_re |>                                                                 #\n",
        "  dplyr::left_join(linear_weight, by = \"event\") |>                                                #\n",
        "  dplyr::transmute(                                                                               #\n",
        "    batter_id,                                                                                    #\n",
        "    re24 = runs_on_event + dplyr::coalesce(post_run_exp, 0) - pre_run_exp,                        #\n",
        "    lw = linear_weight,                                                                           #\n",
        "    residual = re24 - lw                                                                          #\n",
        "  )                                                                                               #\n",
        "\n",
        "batter_summary <- batter_metrics |>                                                               #\n",
        "  dplyr::group_by(batter_id) |>                                                                   #\n",
        "  dplyr::summarize(                                                                               #\n",
        "    pa = dplyr::n(),                                                                              #\n",
        "    re24 = sum(re24),                                                                             #\n",
        "    lw = sum(lw),                                                                                 #\n",
        "    residual = sum(residual),                                                                     #\n",
        "    re24_per_pa = re24 / pa,                                                                      #\n",
        "    lw_per_pa = lw / pa,                                                                          #\n",
        "    residual_per_pa = residual / pa,                                                              #\n",
        "    .groups = \"drop\"                                                                              #\n",
        "  )                                                                                               #\n",
        "\n",
        "head(batter_summary)                                                                              #"
      ],
      "metadata": {
        "id": "EjPoYJzBbpFH",
        "colab": {
          "base_uri": "https://localhost:8080/",
          "height": 286
        },
        "outputId": "898ec804-4f5b-406e-9369-27bdbea41567"
      },
      "execution_count": 46,
      "outputs": [
        {
          "output_type": "display_data",
          "data": {
            "text/html": [
              "<table class=\"dataframe\">\n",
              "<caption>A tibble: 6 × 8</caption>\n",
              "<thead>\n",
              "\t<tr><th scope=col>batter_id</th><th scope=col>pa</th><th scope=col>re24</th><th scope=col>lw</th><th scope=col>residual</th><th scope=col>re24_per_pa</th><th scope=col>lw_per_pa</th><th scope=col>residual_per_pa</th></tr>\n",
              "\t<tr><th scope=col>&lt;int&gt;</th><th scope=col>&lt;int&gt;</th><th scope=col>&lt;dbl&gt;</th><th scope=col>&lt;dbl&gt;</th><th scope=col>&lt;dbl&gt;</th><th scope=col>&lt;dbl&gt;</th><th scope=col>&lt;dbl&gt;</th><th scope=col>&lt;dbl&gt;</th></tr>\n",
              "</thead>\n",
              "<tbody>\n",
              "\t<tr><td>444482</td><td>232</td><td>  3.027248</td><td>  4.9768604</td><td>-1.9496124</td><td> 0.013048483</td><td> 0.021451985</td><td>-0.008403502</td></tr>\n",
              "\t<tr><td>453568</td><td>447</td><td>  2.469485</td><td>  0.4755512</td><td> 1.9939341</td><td> 0.005524576</td><td> 0.001063873</td><td> 0.004460703</td></tr>\n",
              "\t<tr><td>455117</td><td>148</td><td>-15.755141</td><td>-18.6302561</td><td> 2.8751153</td><td>-0.106453654</td><td>-0.125880109</td><td> 0.019426455</td></tr>\n",
              "\t<tr><td>456781</td><td>259</td><td>  7.261483</td><td>  3.2319145</td><td> 4.0295681</td><td> 0.028036613</td><td> 0.012478434</td><td> 0.015558178</td></tr>\n",
              "\t<tr><td>457705</td><td>470</td><td>  9.950206</td><td> 10.9297692</td><td>-0.9795631</td><td> 0.021170651</td><td> 0.023254828</td><td>-0.002084177</td></tr>\n",
              "\t<tr><td>457759</td><td>477</td><td> -5.139983</td><td> -2.2223475</td><td>-2.9176354</td><td>-0.010775645</td><td>-0.004659009</td><td>-0.006116636</td></tr>\n",
              "</tbody>\n",
              "</table>\n"
            ],
            "text/markdown": "\nA tibble: 6 × 8\n\n| batter_id &lt;int&gt; | pa &lt;int&gt; | re24 &lt;dbl&gt; | lw &lt;dbl&gt; | residual &lt;dbl&gt; | re24_per_pa &lt;dbl&gt; | lw_per_pa &lt;dbl&gt; | residual_per_pa &lt;dbl&gt; |\n|---|---|---|---|---|---|---|---|\n| 444482 | 232 |   3.027248 |   4.9768604 | -1.9496124 |  0.013048483 |  0.021451985 | -0.008403502 |\n| 453568 | 447 |   2.469485 |   0.4755512 |  1.9939341 |  0.005524576 |  0.001063873 |  0.004460703 |\n| 455117 | 148 | -15.755141 | -18.6302561 |  2.8751153 | -0.106453654 | -0.125880109 |  0.019426455 |\n| 456781 | 259 |   7.261483 |   3.2319145 |  4.0295681 |  0.028036613 |  0.012478434 |  0.015558178 |\n| 457705 | 470 |   9.950206 |  10.9297692 | -0.9795631 |  0.021170651 |  0.023254828 | -0.002084177 |\n| 457759 | 477 |  -5.139983 |  -2.2223475 | -2.9176354 | -0.010775645 | -0.004659009 | -0.006116636 |\n\n",
            "text/latex": "A tibble: 6 × 8\n\\begin{tabular}{llllllll}\n batter\\_id & pa & re24 & lw & residual & re24\\_per\\_pa & lw\\_per\\_pa & residual\\_per\\_pa\\\\\n <int> & <int> & <dbl> & <dbl> & <dbl> & <dbl> & <dbl> & <dbl>\\\\\n\\hline\n\t 444482 & 232 &   3.027248 &   4.9768604 & -1.9496124 &  0.013048483 &  0.021451985 & -0.008403502\\\\\n\t 453568 & 447 &   2.469485 &   0.4755512 &  1.9939341 &  0.005524576 &  0.001063873 &  0.004460703\\\\\n\t 455117 & 148 & -15.755141 & -18.6302561 &  2.8751153 & -0.106453654 & -0.125880109 &  0.019426455\\\\\n\t 456781 & 259 &   7.261483 &   3.2319145 &  4.0295681 &  0.028036613 &  0.012478434 &  0.015558178\\\\\n\t 457705 & 470 &   9.950206 &  10.9297692 & -0.9795631 &  0.021170651 &  0.023254828 & -0.002084177\\\\\n\t 457759 & 477 &  -5.139983 &  -2.2223475 & -2.9176354 & -0.010775645 & -0.004659009 & -0.006116636\\\\\n\\end{tabular}\n",
            "text/plain": [
              "  batter_id pa  re24       lw          residual   re24_per_pa  lw_per_pa   \n",
              "1 444482    232   3.027248   4.9768604 -1.9496124  0.013048483  0.021451985\n",
              "2 453568    447   2.469485   0.4755512  1.9939341  0.005524576  0.001063873\n",
              "3 455117    148 -15.755141 -18.6302561  2.8751153 -0.106453654 -0.125880109\n",
              "4 456781    259   7.261483   3.2319145  4.0295681  0.028036613  0.012478434\n",
              "5 457705    470   9.950206  10.9297692 -0.9795631  0.021170651  0.023254828\n",
              "6 457759    477  -5.139983  -2.2223475 -2.9176354 -0.010775645 -0.004659009\n",
              "  residual_per_pa\n",
              "1 -0.008403502   \n",
              "2  0.004460703   \n",
              "3  0.019426455   \n",
              "4  0.015558178   \n",
              "5 -0.002084177   \n",
              "6 -0.006116636   "
            ]
          },
          "metadata": {}
        }
      ]
    },
    {
      "cell_type": "markdown",
      "source": [
        "EXERCISE #3\n",
        "\n",
        "Plot RE24/PA (y-axis) vs. LW/PA (x-axis) for all batters with more than 400 plate appearances."
      ],
      "metadata": {
        "id": "pLs6aF28bR_t"
      }
    },
    {
      "cell_type": "code",
      "source": [
        "batter_summary |>                                                                                 #\n",
        "  dplyr::filter(pa > 400) |>                                                                      #\n",
        "  with(plot(lw_per_pa, re24_per_pa))                                                              #"
      ],
      "metadata": {
        "id": "DL8csn_4CzyK",
        "colab": {
          "base_uri": "https://localhost:8080/",
          "height": 437
        },
        "outputId": "9b8c34a9-ea74-400a-c4ac-55fc0764f3b7"
      },
      "execution_count": 47,
      "outputs": [
        {
          "output_type": "display_data",
          "data": {
            "text/plain": [
              "plot without title"
            ],
            "image/png": "[encoded data removed]"
          },
          "metadata": {
            "image/png": {
              "width": 420,
              "height": 420
            }
          }
        }
      ]
    },
    {
      "cell_type": "markdown",
      "source": [
        "EXERCISE #4\n",
        "\n",
        "Among all batters with more than 400 PA, which batters have the greatest residual (RE24 - LW) / PA? Try to get batter names, not just IDs!"
      ],
      "metadata": {
        "id": "KxV5chz8dveu"
      }
    },
    {
      "cell_type": "code",
      "source": [
        "batter_summary |>                                                                                 #\n",
        "  dplyr::left_join(player, by = c(\"batter_id\" = \"player_id\")) |>                                  #\n",
        "  dplyr::filter(pa > 400) |>                                                                      #\n",
        "  dplyr::arrange(-residual_per_pa) |>                                                             #\n",
        "  dplyr::select(batter_id, name_full, pa, re24_per_pa, lw_per_pa) |>                              #\n",
        "  head()                                                                                          #"
      ],
      "metadata": {
        "id": "antSgLq5KYDL",
        "colab": {
          "base_uri": "https://localhost:8080/",
          "height": 286
        },
        "outputId": "d3c61500-97b9-4f1a-ec0e-fd19984a206d"
      },
      "execution_count": 48,
      "outputs": [
        {
          "output_type": "display_data",
          "data": {
            "text/html": [
              "<table class=\"dataframe\">\n",
              "<caption>A tibble: 6 × 5</caption>\n",
              "<thead>\n",
              "\t<tr><th scope=col>batter_id</th><th scope=col>name_full</th><th scope=col>pa</th><th scope=col>re24_per_pa</th><th scope=col>lw_per_pa</th></tr>\n",
              "\t<tr><th scope=col>&lt;int&gt;</th><th scope=col>&lt;chr&gt;</th><th scope=col>&lt;int&gt;</th><th scope=col>&lt;dbl&gt;</th><th scope=col>&lt;dbl&gt;</th></tr>\n",
              "</thead>\n",
              "<tbody>\n",
              "\t<tr><td>686469</td><td>Vinnie Pasquantino</td><td>558</td><td>0.03896968</td><td>0.009098026</td></tr>\n",
              "\t<tr><td>607043</td><td>Brandon Nimmo     </td><td>601</td><td>0.04310496</td><td>0.014500265</td></tr>\n",
              "\t<tr><td>664983</td><td>Jake McCarthy     </td><td>435</td><td>0.05890226</td><td>0.031574086</td></tr>\n",
              "\t<tr><td>595777</td><td>Jurickson Profar  </td><td>605</td><td>0.06659267</td><td>0.039846492</td></tr>\n",
              "\t<tr><td>687263</td><td>Zach Neto         </td><td>551</td><td>0.03511884</td><td>0.012011942</td></tr>\n",
              "\t<tr><td>592626</td><td>Joc Pederson      </td><td>408</td><td>0.09916590</td><td>0.076392636</td></tr>\n",
              "</tbody>\n",
              "</table>\n"
            ],
            "text/markdown": "\nA tibble: 6 × 5\n\n| batter_id &lt;int&gt; | name_full &lt;chr&gt; | pa &lt;int&gt; | re24_per_pa &lt;dbl&gt; | lw_per_pa &lt;dbl&gt; |\n|---|---|---|---|---|\n| 686469 | Vinnie Pasquantino | 558 | 0.03896968 | 0.009098026 |\n| 607043 | Brandon Nimmo      | 601 | 0.04310496 | 0.014500265 |\n| 664983 | Jake McCarthy      | 435 | 0.05890226 | 0.031574086 |\n| 595777 | Jurickson Profar   | 605 | 0.06659267 | 0.039846492 |\n| 687263 | Zach Neto          | 551 | 0.03511884 | 0.012011942 |\n| 592626 | Joc Pederson       | 408 | 0.09916590 | 0.076392636 |\n\n",
            "text/latex": "A tibble: 6 × 5\n\\begin{tabular}{lllll}\n batter\\_id & name\\_full & pa & re24\\_per\\_pa & lw\\_per\\_pa\\\\\n <int> & <chr> & <int> & <dbl> & <dbl>\\\\\n\\hline\n\t 686469 & Vinnie Pasquantino & 558 & 0.03896968 & 0.009098026\\\\\n\t 607043 & Brandon Nimmo      & 601 & 0.04310496 & 0.014500265\\\\\n\t 664983 & Jake McCarthy      & 435 & 0.05890226 & 0.031574086\\\\\n\t 595777 & Jurickson Profar   & 605 & 0.06659267 & 0.039846492\\\\\n\t 687263 & Zach Neto          & 551 & 0.03511884 & 0.012011942\\\\\n\t 592626 & Joc Pederson       & 408 & 0.09916590 & 0.076392636\\\\\n\\end{tabular}\n",
            "text/plain": [
              "  batter_id name_full          pa  re24_per_pa lw_per_pa  \n",
              "1 686469    Vinnie Pasquantino 558 0.03896968  0.009098026\n",
              "2 607043    Brandon Nimmo      601 0.04310496  0.014500265\n",
              "3 664983    Jake McCarthy      435 0.05890226  0.031574086\n",
              "4 595777    Jurickson Profar   605 0.06659267  0.039846492\n",
              "5 687263    Zach Neto          551 0.03511884  0.012011942\n",
              "6 592626    Joc Pederson       408 0.09916590  0.076392636"
            ]
          },
          "metadata": {}
        }
      ]
    },
    {
      "cell_type": "markdown",
      "source": [
        "# Part 2: Regressing the Residual to the Mean"
      ],
      "metadata": {
        "id": "12hn5RcCcNrc"
      }
    },
    {
      "cell_type": "markdown",
      "source": [
        "To get the most out of the information available to us in LW and RE24, we can do better than choosing between them. In this section, we perform regression to the mean on the residual RE24 -- LW. Recall the Bayesian model we have discussed in class:\n",
        "\n",
        "$$\n",
        "\\begin{split}\n",
        "  Z_j &\\sim \\mbox{Normal}(\\eta_j, \\sigma^2_Z / n_j) \\\\\n",
        "  \\eta_j &\\sim \\mbox{Normal}(0, \\sigma^2_\\eta)\n",
        "\\end{split}\n",
        "$$\n",
        "\n",
        "Conveniently, we can estimate this model in one line of code using the `lmer` (linear mixed-effects regression) function from the lme4 package you installed at the top of this notebook. This model estimates how much variance is explained by the batter (the signal) and how much is explained by noise."
      ],
      "metadata": {
        "id": "IXYxOV9msBjQ"
      }
    },
    {
      "cell_type": "code",
      "source": [
        "fit <- lme4::lmer(residual ~ (1 | batter_id), data = batter_metrics)                              #\n",
        "\n",
        "lme4::VarCorr(fit)                                                                                #"
      ],
      "metadata": {
        "colab": {
          "base_uri": "https://localhost:8080/",
          "height": 71
        },
        "id": "Dq899a8FOFgY",
        "outputId": "b47f0ff4-2448-473f-c216-a86f6a4e9798"
      },
      "execution_count": 49,
      "outputs": [
        {
          "output_type": "display_data",
          "data": {
            "text/plain": [
              " Groups    Name        Std.Dev. \n",
              " batter_id (Intercept) 0.0024237\n",
              " Residual              0.2350612"
            ]
          },
          "metadata": {}
        }
      ]
    },
    {
      "cell_type": "markdown",
      "source": [
        "The table above reports the signal (`batter_id`) standard deviation and the noise (`Residual`) standard deviation. Recall that standard deviation is the square root of variance.\n",
        "\n",
        "We can extract these numbers from the model fit using the code below."
      ],
      "metadata": {
        "id": "362QRxbAOctK"
      }
    },
    {
      "cell_type": "code",
      "source": [
        "var_component <- as.data.frame(lme4::VarCorr(fit))                                                #\n",
        "\n",
        "var_signal <- var_component |>                                                                    #\n",
        "  dplyr::filter(grp == \"batter_id\") |>                                                            #\n",
        "  with(vcov)    # This is sigma^2_eta                                                             #\n",
        "\n",
        "var_noise <- var_component |>                                                                     #\n",
        "  dplyr::filter(grp == \"Residual\") |>                                                             #\n",
        "  with(vcov)    # This is sigma^2_Z                                                               #"
      ],
      "metadata": {
        "id": "FX9SEAr3Od78"
      },
      "execution_count": 50,
      "outputs": []
    },
    {
      "cell_type": "markdown",
      "source": [
        "## Exercises"
      ],
      "metadata": {
        "id": "TH2_54y1r7fM"
      }
    },
    {
      "cell_type": "markdown",
      "source": [
        "EXERCISE #1\n",
        "\n",
        "If your goal is to estimate a batter's true talent RE24, how many plate appearances would it take before their observed RE24 becomes a better estimate than their observed LW?\n",
        "\n",
        "Recall that this happens when $n = \\sigma^2_Z / \\sigma^2_\\eta$."
      ],
      "metadata": {
        "id": "yTJ_EipfeM4c"
      }
    },
    {
      "cell_type": "code",
      "source": [
        "var_noise / var_signal                                                                            #"
      ],
      "metadata": {
        "id": "7rmF_yy3U0ny",
        "colab": {
          "base_uri": "https://localhost:8080/",
          "height": 34
        },
        "outputId": "3da5b834-b802-46a8-97fe-a5c0aa5ddb36"
      },
      "execution_count": 51,
      "outputs": [
        {
          "output_type": "display_data",
          "data": {
            "text/html": [
              "9406.21030971204"
            ],
            "text/markdown": "9406.21030971204",
            "text/latex": "9406.21030971204",
            "text/plain": [
              "[1] 9406.21"
            ]
          },
          "metadata": {}
        }
      ]
    },
    {
      "cell_type": "markdown",
      "source": [
        "EXERCISE #2\n",
        "\n",
        "Perform regression to the mean to estimate each batter's true talent residual (RE24 - LW) / PA.\n",
        "\n",
        "Recall that the posterior mean of the Bayesian model is given by\n",
        "$$\n",
        "  \\frac{n_j / \\sigma^2_Z \\cdot z_j}{n_j / \\sigma^2_Z + 1 / \\sigma^2_\\eta}.\n",
        "$$"
      ],
      "metadata": {
        "id": "eiKDKL3kfpi8"
      }
    },
    {
      "cell_type": "code",
      "source": [
        "batter_regressed <- batter_summary |>                                                             #\n",
        "  dplyr::mutate(                                                                                  #\n",
        "    regressed_residual_per_pa = (residual_per_pa / (var_noise / pa)) /                            #\n",
        "      (pa / var_noise + 1 / var_signal)                                                           #\n",
        "  )                                                                                               #"
      ],
      "metadata": {
        "id": "KHkIst7vWjD1"
      },
      "execution_count": 52,
      "outputs": []
    },
    {
      "cell_type": "markdown",
      "source": [
        "EXERCISE #3\n",
        "\n",
        "Plot mean-regressed (RE24 -- LW) / PA on the y-axis vs. observed (RE24 -- LW) / PA on the x-axis. Use a different plotting color for players with more than 400 PA. What do you observe?"
      ],
      "metadata": {
        "id": "D6Iyy6qgfxxk"
      }
    },
    {
      "cell_type": "code",
      "source": [
        "batter_regressed |>                                                                               #\n",
        "  with(                                                                                           #\n",
        "    plot(                                                                                         #\n",
        "      x = residual_per_pa,                                                                        #\n",
        "      y = regressed_residual_per_pa,                                                              #\n",
        "      xlim = c(-0.1, 0.1),                                                                        #\n",
        "      ylim = c(-0.1, 0.1),                                                                        #\n",
        "      col = ifelse(pa > 400, \"dodgerblue\", \"black\")                                               #\n",
        "    )                                                                                             #\n",
        "  )                                                                                               #\n",
        "\n",
        "abline(0, 1)                                                                                      #"
      ],
      "metadata": {
        "id": "D5UJGcErTS3a",
        "colab": {
          "base_uri": "https://localhost:8080/",
          "height": 437
        },
        "outputId": "d88d67e8-04c2-40c2-f95c-01863405ee02"
      },
      "execution_count": 53,
      "outputs": [
        {
          "output_type": "display_data",
          "data": {
            "text/plain": [
              "plot without title"
            ],
            "image/png": "[encoded data removed]"
          },
          "metadata": {
            "image/png": {
              "width": 420,
              "height": 420
            }
          }
        }
      ]
    },
    {
      "cell_type": "markdown",
      "source": [
        "EXERCISE #4 (Challenge)\n",
        "\n",
        "How many plate appearances does it take before a player's observed LW / PA is a better estimator of their true talent LW / PA than simply estimating it to be zero? How about RE24 / PA?"
      ],
      "metadata": {
        "id": "Np_X3fQtgUkC"
      }
    },
    {
      "cell_type": "code",
      "source": [
        "# Estimate noise variance                                                                         #\n",
        "variance <- batter_metrics |>                                                                     #\n",
        "  dplyr::group_by(batter_id) |>                                                                   #\n",
        "  dplyr::summarize(                                                                               #\n",
        "    pa = dplyr::n(),                                                                              #\n",
        "    re24 = var(re24),                                                                             #\n",
        "    lw = var(lw)                                                                                  #\n",
        "  ) |>                                                                                            #\n",
        "  dplyr::filter(pa > 30) |>                                                                       #\n",
        "  dplyr::summarize(                                                                               #\n",
        "    re24 = weighted.mean(re24, w = pa),                                                           #\n",
        "    lw = weighted.mean(lw, w = pa),                                                               #\n",
        "    .groups = \"drop\"                                                                              #\n",
        "  )                                                                                               #\n",
        "\n",
        "# Estimate population variance in true talent                                                     #\n",
        "population_variance_lw = estimate_population_variance(                                            #\n",
        "  observed_value = batter_summary$lw_per_pa,                                                      #\n",
        "  noise_variance = variance$lw / batter_summary$pa                                                #\n",
        ")                                                                                                 #\n",
        "population_variance_re24 = estimate_population_variance(                                          #\n",
        "  observed_value = batter_summary$re24_per_pa,                                                    #\n",
        "  noise_variance = variance$re24 / batter_summary$pa                                              #\n",
        ")                                                                                                 #\n",
        "\n",
        "# The ratio tells us the sample size threshold                                                    #\n",
        "print(variance$lw / population_variance_lw)                                                       #\n",
        "print(variance$re24 / population_variance_re24)                                                   #"
      ],
      "metadata": {
        "id": "sAf8RE69XLWZ",
        "colab": {
          "base_uri": "https://localhost:8080/"
        },
        "outputId": "64e42598-0aac-430a-cdf6-8c4d20201a4a"
      },
      "execution_count": 54,
      "outputs": [
        {
          "output_type": "stream",
          "name": "stdout",
          "text": [
            "[1] 338.9467\n",
            "[1] 416.1165\n"
          ]
        }
      ]
    }
  ]
}